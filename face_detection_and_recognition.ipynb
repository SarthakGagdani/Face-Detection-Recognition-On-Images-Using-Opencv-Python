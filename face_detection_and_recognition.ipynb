{
 "cells": [
  {
   "cell_type": "code",
   "execution_count": 1,
   "metadata": {},
   "outputs": [],
   "source": [
    "#importing all required libraries \n",
    "import cv2\n",
    "import os\n",
    "import numpy as np"
   ]
  },
  {
   "cell_type": "code",
   "execution_count": 2,
   "metadata": {},
   "outputs": [],
   "source": [
    "#I will be training my model to recognize 3 persons(ME and my 2 friends)\n",
    "#List persons will store the name of person at index 1,2 and 3.I have created folders as 1,2,3 in training dataset for respective faces\n",
    "persons=['None','Sarthak','Akash','Ajay']\n",
    "#training data address\n",
    "train_data_path=r'D:\\training-data'"
   ]
  },
  {
   "cell_type": "code",
   "execution_count": 3,
   "metadata": {},
   "outputs": [],
   "source": [
    "#detect_face function will detect the face using opencv\n",
    "def detect_face(img):\n",
    "    #Converting image to grayscale for opencv \n",
    "    gray_img=cv2.cvtColor(img,cv2.COLOR_BGR2GRAY)\n",
    "    #I will use LBP cascade as it is fast.There are other more accurate but slow.\n",
    "    #This is located in opencv\\data\n",
    "    f_cascade = cv2.CascadeClassifier(r'C:\\Program Files (x86)\\opencv\\sources\\data\\lbpcascades\\lbpcascade_frontalface_improved.xml')\n",
    "    #Detecting face using MultiScale Funct.Result is a list of faces\n",
    "    faces = f_cascade.detectMultiScale(gray_img, scaleFactor=1.2, minNeighbors=5);\n",
    "    #If no faces in the image.\n",
    "    if (len(faces) == 0):\n",
    "        return None,None\n",
    "    #Assuming only potrait photos\n",
    "    (x, y, w, h) = faces[0]\n",
    "    #returning the face part and coordinates \n",
    "    return gray_img[y:y+w, x:x+h],faces[0]\n",
    "    "
   ]
  },
  {
   "cell_type": "code",
   "execution_count": 4,
   "metadata": {},
   "outputs": [],
   "source": [
    "#loading training data\n",
    "def training_data(train_data_path):\n",
    "    #faces and labels will have face details and corresponding labels respectively.\n",
    "    faces=[]\n",
    "    labels=[]\n",
    "    #using os function to load folder names\n",
    "    folders= os.listdir(train_data_path)\n",
    "    for folder_name in folders:\n",
    "        label=int(folder_name)\n",
    "        person_path=train_data_path + \"/\" + folder_name\n",
    "    \n",
    "        person_images_names = os.listdir(person_path)\n",
    "        for image_name in person_images_names:\n",
    "            #ignore system files with .\n",
    "            if image_name.startswith(\".\"):\n",
    "                continue;\n",
    "\n",
    "            image_path = person_path + \"/\" + image_name\n",
    "            #read image using imread function of opencv\n",
    "            image = cv2.imread(image_path)\n",
    "            face,rectangle_coordinates=detect_face(image)\n",
    "            if face is not None:\n",
    "                #adding faces and corresponding labels\n",
    "                faces.append(face)\n",
    "                labels.append(label)\n",
    "        \n",
    "    return faces,labels\n",
    "                \n",
    "                "
   ]
  },
  {
   "cell_type": "code",
   "execution_count": 5,
   "metadata": {},
   "outputs": [],
   "source": [
    "#creating LBPH face recognizer \n",
    "face_recognizer =cv2.face.LBPHFaceRecognizer_create()"
   ]
  },
  {
   "cell_type": "code",
   "execution_count": 6,
   "metadata": {},
   "outputs": [],
   "source": [
    "#train our face recognizer of our training faces\n",
    "faces, labels =training_data(train_data_path)\n",
    "face_recognizer.train(faces, np.array(labels))\n"
   ]
  },
  {
   "cell_type": "code",
   "execution_count": 7,
   "metadata": {},
   "outputs": [],
   "source": [
    "#image recognition using predict funct\n",
    "def predict(test_img):\n",
    "    #make a copy of the image as we don't want to change original image\n",
    "    img = test_img.copy()\n",
    "    #detecting face from the image\n",
    "    #Converting image to grayscale for opencv \n",
    "    gray_img=cv2.cvtColor(img,cv2.COLOR_BGR2GRAY)\n",
    "    #I will use LBP cascade as it is fast.There are other more accurate but slow.\n",
    "    #This is located in opencv\\data\n",
    "    f_cascade = cv2.CascadeClassifier(r'C:\\Program Files (x86)\\opencv\\sources\\data\\lbpcascades\\lbpcascade_frontalface_improved.xml')\n",
    "    #Detecting face using MultiScale Funct.Result is a list of faces\n",
    "    test_faces = f_cascade.detectMultiScale(gray_img, scaleFactor=1.2, minNeighbors=5);\n",
    "    #If no faces in the image.\n",
    "    if (len(test_faces) == 0):\n",
    "        return None\n",
    "    \n",
    "    for (x, y, w, h) in test_faces:\n",
    "        test_face=(gray_img[y:y+w, x:x+h])\n",
    "        #predict the image using our face recognizer \n",
    "        label= face_recognizer.predict(test_face)\n",
    "        #get name of respective label returned by face recognizer\n",
    "        label_name = persons[label[0]]\n",
    "        #function to draw rectangle on the image and write label to it\n",
    "        cv2.rectangle(img, (x, y), (x+w, y+h), (0, 255, 0), 3)\n",
    "        cv2.putText(img,label_name, (x, y-20), cv2.FONT_HERSHEY_SIMPLEX ,3, (0, 255, 0),5)\n",
    "        \n",
    "    return img\n"
   ]
  },
  {
   "cell_type": "code",
   "execution_count": 16,
   "metadata": {},
   "outputs": [
    {
     "name": "stdout",
     "output_type": "stream",
     "text": [
      "Predicting images...\n",
      "Prediction complete\n"
     ]
    }
   ],
   "source": [
    "print(\"Predicting images...\")\n",
    "#load test image\n",
    "test_img1 = cv2.imread(r'D:\\test-data\\MIX\\3.jpg')\n",
    "#perform a prediction\n",
    "predicted_img1 = predict(test_img1)\n",
    "#Resizing window\n",
    "predicted_img1= cv2.resize(predicted_img1, (700,700))\n",
    "print(\"Prediction complete\")\n",
    "#display image using opencv imshow funct\n",
    "cv2.imshow('Test Imag',predicted_img1) \n",
    "cv2.waitKey(0) \n",
    "cv2.destroyAllWindows()"
   ]
  },
  {
   "cell_type": "code",
   "execution_count": null,
   "metadata": {},
   "outputs": [],
   "source": []
  },
  {
   "cell_type": "code",
   "execution_count": null,
   "metadata": {},
   "outputs": [],
   "source": []
  }
 ],
 "metadata": {
  "kernelspec": {
   "display_name": "Python [default]",
   "language": "python",
   "name": "python3"
  },
  "language_info": {
   "codemirror_mode": {
    "name": "ipython",
    "version": 3
   },
   "file_extension": ".py",
   "mimetype": "text/x-python",
   "name": "python",
   "nbconvert_exporter": "python",
   "pygments_lexer": "ipython3",
   "version": "3.6.4"
  }
 },
 "nbformat": 4,
 "nbformat_minor": 2
}
